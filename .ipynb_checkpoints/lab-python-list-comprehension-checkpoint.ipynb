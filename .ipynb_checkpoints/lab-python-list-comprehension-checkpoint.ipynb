{
 "cells": [
  {
   "cell_type": "markdown",
   "id": "25d7736c-ba17-4aff-b6bb-66eba20fbf4e",
   "metadata": {},
   "source": [
    "# Lab | List, Dict and Set Comprehension"
   ]
  },
  {
   "cell_type": "markdown",
   "id": "7dd3cbde-675a-4b81-92c3-f728846dbe06",
   "metadata": {},
   "source": [
    "## Exercise: Managing Customer Orders Optimized with Comprehension"
   ]
  },
  {
   "cell_type": "markdown",
   "id": "5d500160-2fb7-4777-b5e4-09d45ebaf328",
   "metadata": {},
   "source": [
    "In the previous exercise, you developed a program to manage customer orders and inventory. Now, let's take it a step further and incorporate comprehension into your code.\n",
    "\n",
    "Follow the steps below to complete the exercise:\n",
    "\n",
    "1. Review your code from the previous exercise and identify areas where you can apply comprehension to simplify and streamline your code. \n",
    "\n",
    "    - *Hint: Apply it to initialize inventory, updating the inventory and printing the updated inventory.*\n",
    "    \n",
    "    - For example, in initializing the inventory, we could have:\n",
    "    \n",
    "        ```python\n",
    "        def initialize_inventory(products):\n",
    "            inventory = {product: int(input(f\"Enter the quantity of {product}s available: \")) for product in products}\n",
    "            return inventory\n",
    "\n",
    "        ```\n",
    "<br>\n",
    "    \n",
    "    \n",
    "2. Modify the function get_customer_orders so it prompts the user to enter the number of customer orders and gathers the product names using a loop and user input. Use comprehension.\n",
    "\n",
    "3. Add a new function to calculate the total price of the customer order. For each product in customer_orders, prompt the user to enter the price of that product. Use comprehension to calculate the total price. Note: assume that the user can only have 1 unit of each product.\n",
    "\n",
    "4. Modify the update_inventory function to remove the product from the inventory if its quantity becomes zero after fulfilling the customer orders. Use comprehension to filter out the products with a quantity of zero from the inventory.\n",
    "\n",
    "5. Print the total price of the customer order.\n",
    "\n",
    "Your code should produce output similar to the following:\n",
    "\n",
    "```python\n",
    "Enter the quantity of t-shirts available:  5\n",
    "Enter the quantity of mugs available:  4\n",
    "Enter the quantity of hats available:  3\n",
    "Enter the quantity of books available:  2\n",
    "Enter the quantity of keychains available:  1\n",
    "Enter the number of customer orders:  2\n",
    "Enter the name of a product that a customer wants to order:  hat\n",
    "Enter the name of a product that a customer wants to order:  keychain\n",
    "\n",
    "Order Statistics:\n",
    "Total Products Ordered: 2\n",
    "Percentage of Unique Products Ordered: 40.0\n",
    "\n",
    "Updated Inventory:\n",
    "t-shirt: 5\n",
    "mug: 4\n",
    "hat: 2\n",
    "book: 2\n",
    "Enter the price of keychain:  5\n",
    "Enter the price of hat:  10\n",
    "Total Price: 15.0\n",
    "\n",
    "```\n"
   ]
  },
  {
   "cell_type": "markdown",
   "id": "fb59bc0a-8f82-4f54-934e-4de238e59738",
   "metadata": {},
   "source": [
    "1. Review your code from the previous exercise and identify areas where you can apply comprehension to simplify and streamline your code. \n"
   ]
  },
  {
   "cell_type": "code",
   "execution_count": 308,
   "id": "38d624aa-d241-4a69-9c8d-8dab766b60ac",
   "metadata": {},
   "outputs": [
    {
     "name": "stdin",
     "output_type": "stream",
     "text": [
      "Quantity of book available: 5\n",
      "Quantity of magazine available: 3\n",
      "Quantity of sudoku available: 6\n",
      "Quantity of newspaper available: 8\n",
      "Quantity of notebook available: 10\n"
     ]
    }
   ],
   "source": [
    "#1: dictionary comprehension:\n",
    "\n",
    "def initialize_inventory(product):\n",
    "    inventory = {product: int(input(f\"Quantity of {product} available:\")) for product in products}\n",
    "    return inventory\n",
    "\n",
    "products = [\"book\", \"magazine\", \"sudoku\", \"newspaper\", \"notebook\"]\n",
    "inventory = initialize_inventory(products)"
   ]
  },
  {
   "cell_type": "code",
   "execution_count": 310,
   "id": "384d38c8-1035-4d61-bbf0-70cae3873045",
   "metadata": {},
   "outputs": [
    {
     "name": "stdin",
     "output_type": "stream",
     "text": [
      "What would you like to order from the following list: book, magazine, sudoku, newspaper, notebook? book\n",
      "Do you want to order anything else? Type yes or no. yes\n",
      "What would you like to order? newspaper\n",
      "Do you want to order anything else? Type yes or no. yes\n",
      "What would you like to order? sudoku\n",
      "Do you want to order anything else? Type yes or no. no\n"
     ]
    },
    {
     "name": "stdout",
     "output_type": "stream",
     "text": [
      "Thanks for your order!\n"
     ]
    },
    {
     "data": {
      "text/plain": [
       "{'book', 'newspaper', 'sudoku'}"
      ]
     },
     "execution_count": 310,
     "metadata": {},
     "output_type": "execute_result"
    }
   ],
   "source": [
    "# define customer_orders\n",
    "\n",
    "def get_customer_orders():\n",
    "    customer_orders = set()\n",
    "\n",
    "    customer_orders.add(input(\"What would you like to order from the following list: book, magazine, sudoku, newspaper, notebook?\"))\n",
    "    answer = 'yes'\n",
    "    \n",
    "    while answer == 'yes':\n",
    "        answer = input(\"Do you want to order anything else? Type yes or no.\")\n",
    "        if answer == 'yes':\n",
    "            customer_orders.add(str(input(\"What would you like to order?\")))\n",
    "        else:\n",
    "            print(\"Thanks for your order!\")\n",
    "            break\n",
    "    return customer_orders\n",
    "\n",
    "customer_orders = get_customer_orders()\n",
    "customer_orders\n",
    "\n"
   ]
  },
  {
   "cell_type": "code",
   "execution_count": 127,
   "id": "aadf199f-0cdf-4c7c-a34e-6923eaada788",
   "metadata": {},
   "outputs": [
    {
     "data": {
      "text/plain": [
       "{'book': 0, 'magazine': 3, 'sudoku': 5, 'newspaper': 7, 'notebook': 9}"
      ]
     },
     "execution_count": 127,
     "metadata": {},
     "output_type": "execute_result"
    }
   ],
   "source": [
    "#1: dictionary comprehension\n",
    "\n",
    "def update_inventory(customer_orders, inventory):\n",
    "    updated_inventory = {\n",
    "        item: inventory[item] - 1 if item in customer_orders else inventory[item] \n",
    "        for item in inventory}\n",
    "    return updated_inventory\n",
    "updated_inventory = update_inventory(customer_orders, inventory)\n",
    "updated_inventory"
   ]
  },
  {
   "cell_type": "code",
   "execution_count": 312,
   "id": "a99464ed-d684-4e75-b410-2bc49841f502",
   "metadata": {},
   "outputs": [
    {
     "data": {
      "text/plain": [
       "{'book': 0, 'magazine': 3, 'sudoku': 5, 'newspaper': 6, 'notebook': 8}"
      ]
     },
     "execution_count": 312,
     "metadata": {},
     "output_type": "execute_result"
    }
   ],
   "source": [
    "#1: dictionary comprehension\n",
    "\n",
    "def print_updated_inventory(updated_inventory):\n",
    "    inventory_dict = {product: quantity for product, quantity in updated_inventory.items()}\n",
    "    return inventory_dict\n",
    "\n",
    "list_of_inventory = print_updated_inventory(updated_inventory)\n",
    "list_of_inventory"
   ]
  },
  {
   "cell_type": "markdown",
   "id": "06e91d9b-a975-4f93-ad22-819566067f15",
   "metadata": {},
   "source": [
    "2. Modify the function get_customer_orders so it prompts the user to enter the number of customer orders and gathers the product names using a loop and user input. Use comprehension.\n",
    "\n",
    "Enter the number of customer orders:  2\n",
    "Enter the name of a product that a customer wants to order:  hat\n",
    "Enter the name of a product that a customer wants to order:  keychain"
   ]
  },
  {
   "cell_type": "code",
   "execution_count": 314,
   "id": "324107df-070c-4671-ba90-90d9c5e4da0b",
   "metadata": {},
   "outputs": [
    {
     "name": "stdin",
     "output_type": "stream",
     "text": [
      "How many orders would you like to place? 3\n",
      "What would you like to order from the following list: book, magazine, sudoku, newspaper, notebook? book\n",
      "What would you like to order from the following list: book, magazine, sudoku, newspaper, notebook? magazine\n",
      "What would you like to order from the following list: book, magazine, sudoku, newspaper, notebook? sudoku\n"
     ]
    },
    {
     "name": "stdout",
     "output_type": "stream",
     "text": [
      "Number of customer orders:  3\n",
      "Products ordered: {'magazine', 'book', 'sudoku'}\n"
     ]
    }
   ],
   "source": [
    "#2\n",
    "def get_customer_orders():\n",
    "    num_orders = input(\"How many orders would you like to place?\")\n",
    "    products_ordered = {input(\"What would you like to order from the following list: book, magazine, sudoku, newspaper, notebook?\") for i in range(int(num_orders))}\n",
    "    print(\"Number of customer orders: \", num_orders)\n",
    "    print(f\"Products ordered: {products_ordered}\") \n",
    "        \n",
    "customer_orders = get_customer_orders()\n",
    "customer_orders"
   ]
  },
  {
   "cell_type": "markdown",
   "id": "51aae696-a6b7-4e63-a7cc-5a04b833c18f",
   "metadata": {},
   "source": [
    "3. Add a new function to calculate the total price of the customer order. For each product in customer_orders, prompt the user to enter the price of that product. Use comprehension to calculate the total price. Note: assume that the user can only have 1 unit of each product.\n"
   ]
  },
  {
   "cell_type": "code",
   "execution_count": 322,
   "id": "fce1ee66-d78c-4d85-b909-d21cf9452380",
   "metadata": {},
   "outputs": [
    {
     "ename": "TypeError",
     "evalue": "'NoneType' object is not iterable",
     "output_type": "error",
     "traceback": [
      "\u001b[1;31m---------------------------------------------------------------------------\u001b[0m",
      "\u001b[1;31mTypeError\u001b[0m                                 Traceback (most recent call last)",
      "Cell \u001b[1;32mIn[322], line 11\u001b[0m\n\u001b[0;32m      8\u001b[0m     \u001b[38;5;66;03m# print(f\"Total price in EUR: {total_price}\")\u001b[39;00m\n\u001b[0;32m      9\u001b[0m     \u001b[38;5;28;01mreturn\u001b[39;00m total_price\n\u001b[1;32m---> 11\u001b[0m x \u001b[38;5;241m=\u001b[39m total_price(customer_orders)\n",
      "Cell \u001b[1;32mIn[322], line 4\u001b[0m, in \u001b[0;36mtotal_price\u001b[1;34m(customer_orders)\u001b[0m\n\u001b[0;32m      2\u001b[0m \u001b[38;5;28;01mdef\u001b[39;00m \u001b[38;5;21mtotal_price\u001b[39m(customer_orders):\n\u001b[0;32m      3\u001b[0m     price_list \u001b[38;5;241m=\u001b[39m {}\n\u001b[1;32m----> 4\u001b[0m     \u001b[38;5;28;01mfor\u001b[39;00m product \u001b[38;5;129;01min\u001b[39;00m customer_orders:\n\u001b[0;32m      5\u001b[0m         price_list[product] \u001b[38;5;241m=\u001b[39m \u001b[38;5;28mfloat\u001b[39m(\u001b[38;5;28minput\u001b[39m(\u001b[38;5;124mf\u001b[39m\u001b[38;5;124m\"\u001b[39m\u001b[38;5;124mPrice of \u001b[39m\u001b[38;5;132;01m{\u001b[39;00mproduct\u001b[38;5;132;01m}\u001b[39;00m\u001b[38;5;124m in EUR:\u001b[39m\u001b[38;5;124m\"\u001b[39m))\n\u001b[0;32m      7\u001b[0m     total_price \u001b[38;5;241m=\u001b[39m \u001b[38;5;28mround\u001b[39m(\u001b[38;5;28msum\u001b[39m(price_list\u001b[38;5;241m.\u001b[39mvalues()),\u001b[38;5;241m2\u001b[39m)\n",
      "\u001b[1;31mTypeError\u001b[0m: 'NoneType' object is not iterable"
     ]
    }
   ],
   "source": [
    "# 3 - Long version\n",
    "def total_price(customer_orders):\n",
    "    price_list = {}\n",
    "    for product in customer_orders:\n",
    "        price_list[product] = float(input(f\"Price of {product} in EUR:\"))\n",
    "    \n",
    "    total_price = round(sum(price_list.values()),2)\n",
    "    print(f\"Total price in EUR: {total_price}\")\n",
    "    # return total_price\n",
    "    \n",
    "total_price(customer_orders)"
   ]
  },
  {
   "cell_type": "code",
   "execution_count": 330,
   "id": "0b29fc2c-ea7d-4fc9-81dc-aa8332a96077",
   "metadata": {},
   "outputs": [
    {
     "ename": "TypeError",
     "evalue": "'NoneType' object is not iterable",
     "output_type": "error",
     "traceback": [
      "\u001b[1;31m---------------------------------------------------------------------------\u001b[0m",
      "\u001b[1;31mTypeError\u001b[0m                                 Traceback (most recent call last)",
      "Cell \u001b[1;32mIn[330], line 8\u001b[0m\n\u001b[0;32m      5\u001b[0m     \u001b[38;5;28mprint\u001b[39m(\u001b[38;5;124mf\u001b[39m\u001b[38;5;124m\"\u001b[39m\u001b[38;5;124mTotal price in EUR: \u001b[39m\u001b[38;5;132;01m{\u001b[39;00mtotal_price\u001b[38;5;132;01m}\u001b[39;00m\u001b[38;5;124m\"\u001b[39m)\n\u001b[0;32m      6\u001b[0m     \u001b[38;5;28;01mreturn\u001b[39;00m total_price\n\u001b[1;32m----> 8\u001b[0m calculate_total_price(customer_orders)\n",
      "Cell \u001b[1;32mIn[330], line 3\u001b[0m, in \u001b[0;36mcalculate_total_price\u001b[1;34m(customer_orders)\u001b[0m\n\u001b[0;32m      2\u001b[0m \u001b[38;5;28;01mdef\u001b[39;00m \u001b[38;5;21mcalculate_total_price\u001b[39m(customer_orders):\n\u001b[1;32m----> 3\u001b[0m     price_list \u001b[38;5;241m=\u001b[39m {product: \u001b[38;5;28mfloat\u001b[39m(\u001b[38;5;28minput\u001b[39m(\u001b[38;5;124mf\u001b[39m\u001b[38;5;124m\"\u001b[39m\u001b[38;5;124mPrice of \u001b[39m\u001b[38;5;132;01m{\u001b[39;00mproduct\u001b[38;5;132;01m}\u001b[39;00m\u001b[38;5;124m in EUR:\u001b[39m\u001b[38;5;124m\"\u001b[39m)) \u001b[38;5;28;01mfor\u001b[39;00m product \u001b[38;5;129;01min\u001b[39;00m customer_orders}\n\u001b[0;32m      4\u001b[0m     total_price \u001b[38;5;241m=\u001b[39m \u001b[38;5;28mround\u001b[39m(\u001b[38;5;28msum\u001b[39m(price_list\u001b[38;5;241m.\u001b[39mvalues()),\u001b[38;5;241m2\u001b[39m)\n\u001b[0;32m      5\u001b[0m     \u001b[38;5;28mprint\u001b[39m(\u001b[38;5;124mf\u001b[39m\u001b[38;5;124m\"\u001b[39m\u001b[38;5;124mTotal price in EUR: \u001b[39m\u001b[38;5;132;01m{\u001b[39;00mtotal_price\u001b[38;5;132;01m}\u001b[39;00m\u001b[38;5;124m\"\u001b[39m)\n",
      "\u001b[1;31mTypeError\u001b[0m: 'NoneType' object is not iterable"
     ]
    }
   ],
   "source": [
    "# 3\n",
    "def calculate_total_price(customer_orders):\n",
    "    price_list = {product: float(input(f\"Price of {product} in EUR:\")) for product in customer_orders}\n",
    "    total_price = round(sum(price_list.values()),2)\n",
    "    print(f\"Total price in EUR: {total_price}\")\n",
    "    return total_price\n",
    "\n",
    "calculate_total_price(customer_orders)\n"
   ]
  },
  {
   "cell_type": "markdown",
   "id": "47583aee-3287-4741-a67d-47ec75cc67dd",
   "metadata": {},
   "source": [
    "4. Modify the update_inventory function to remove the product from the inventory if its quantity becomes zero after fulfilling the customer orders. Use comprehension to filter out the products with a quantity of zero from the inventory.\n"
   ]
  },
  {
   "cell_type": "code",
   "execution_count": 305,
   "id": "3d3ae013-f206-49c6-8433-85f58f3d23c5",
   "metadata": {},
   "outputs": [
    {
     "ename": "TypeError",
     "evalue": "argument of type 'NoneType' is not iterable",
     "output_type": "error",
     "traceback": [
      "\u001b[1;31m---------------------------------------------------------------------------\u001b[0m",
      "\u001b[1;31mTypeError\u001b[0m                                 Traceback (most recent call last)",
      "Cell \u001b[1;32mIn[305], line 8\u001b[0m\n\u001b[0;32m      5\u001b[0m     new_inventory \u001b[38;5;241m=\u001b[39m {item: quantity \u001b[38;5;28;01mfor\u001b[39;00m item, quantity \u001b[38;5;129;01min\u001b[39;00m updated_inventory\u001b[38;5;241m.\u001b[39mitems() \u001b[38;5;28;01mif\u001b[39;00m quantity \u001b[38;5;241m>\u001b[39m \u001b[38;5;241m0\u001b[39m}\n\u001b[0;32m      6\u001b[0m     \u001b[38;5;28;01mreturn\u001b[39;00m new_inventory\n\u001b[1;32m----> 8\u001b[0m update_inventory(customer_orders, inventory)\n",
      "Cell \u001b[1;32mIn[305], line 3\u001b[0m, in \u001b[0;36mupdate_inventory\u001b[1;34m(customer_orders, inventory)\u001b[0m\n\u001b[0;32m      1\u001b[0m \u001b[38;5;28;01mdef\u001b[39;00m \u001b[38;5;21mupdate_inventory\u001b[39m(customer_orders, inventory):\n\u001b[0;32m      2\u001b[0m     updated_inventory \u001b[38;5;241m=\u001b[39m {\n\u001b[1;32m----> 3\u001b[0m         item: inventory[item] \u001b[38;5;241m-\u001b[39m \u001b[38;5;241m1\u001b[39m \u001b[38;5;28;01mif\u001b[39;00m item \u001b[38;5;129;01min\u001b[39;00m customer_orders \u001b[38;5;28;01melse\u001b[39;00m inventory[item] \n\u001b[0;32m      4\u001b[0m         \u001b[38;5;28;01mfor\u001b[39;00m item \u001b[38;5;129;01min\u001b[39;00m inventory}\n\u001b[0;32m      5\u001b[0m     new_inventory \u001b[38;5;241m=\u001b[39m {item: quantity \u001b[38;5;28;01mfor\u001b[39;00m item, quantity \u001b[38;5;129;01min\u001b[39;00m updated_inventory\u001b[38;5;241m.\u001b[39mitems() \u001b[38;5;28;01mif\u001b[39;00m quantity \u001b[38;5;241m>\u001b[39m \u001b[38;5;241m0\u001b[39m}\n\u001b[0;32m      6\u001b[0m     \u001b[38;5;28;01mreturn\u001b[39;00m new_inventory\n",
      "\u001b[1;31mTypeError\u001b[0m: argument of type 'NoneType' is not iterable"
     ]
    }
   ],
   "source": [
    "def update_inventory(customer_orders, inventory):\n",
    "    updated_inventory = {\n",
    "        item: inventory[item] - 1 if item in customer_orders else inventory[item] \n",
    "        for item in inventory}\n",
    "    new_inventory = {item: quantity for item, quantity in updated_inventory.items() if quantity > 0}\n",
    "    return new_inventory\n",
    "\n",
    "update_inventory(customer_orders, inventory)\n"
   ]
  },
  {
   "cell_type": "markdown",
   "id": "b38b7b08-7c2a-4720-b6b8-ed476e947236",
   "metadata": {},
   "source": [
    "5. Print the total price of the customer order.\n"
   ]
  },
  {
   "cell_type": "code",
   "execution_count": 332,
   "id": "28952005-9b53-44d1-a249-c279b7ad3c8b",
   "metadata": {},
   "outputs": [
    {
     "ename": "TypeError",
     "evalue": "'NoneType' object is not iterable",
     "output_type": "error",
     "traceback": [
      "\u001b[1;31m---------------------------------------------------------------------------\u001b[0m",
      "\u001b[1;31mTypeError\u001b[0m                                 Traceback (most recent call last)",
      "Cell \u001b[1;32mIn[332], line 1\u001b[0m\n\u001b[1;32m----> 1\u001b[0m \u001b[38;5;28mprint\u001b[39m(total_price(customer_orders))\n",
      "Cell \u001b[1;32mIn[322], line 4\u001b[0m, in \u001b[0;36mtotal_price\u001b[1;34m(customer_orders)\u001b[0m\n\u001b[0;32m      2\u001b[0m \u001b[38;5;28;01mdef\u001b[39;00m \u001b[38;5;21mtotal_price\u001b[39m(customer_orders):\n\u001b[0;32m      3\u001b[0m     price_list \u001b[38;5;241m=\u001b[39m {}\n\u001b[1;32m----> 4\u001b[0m     \u001b[38;5;28;01mfor\u001b[39;00m product \u001b[38;5;129;01min\u001b[39;00m customer_orders:\n\u001b[0;32m      5\u001b[0m         price_list[product] \u001b[38;5;241m=\u001b[39m \u001b[38;5;28mfloat\u001b[39m(\u001b[38;5;28minput\u001b[39m(\u001b[38;5;124mf\u001b[39m\u001b[38;5;124m\"\u001b[39m\u001b[38;5;124mPrice of \u001b[39m\u001b[38;5;132;01m{\u001b[39;00mproduct\u001b[38;5;132;01m}\u001b[39;00m\u001b[38;5;124m in EUR:\u001b[39m\u001b[38;5;124m\"\u001b[39m))\n\u001b[0;32m      7\u001b[0m     total_price \u001b[38;5;241m=\u001b[39m \u001b[38;5;28mround\u001b[39m(\u001b[38;5;28msum\u001b[39m(price_list\u001b[38;5;241m.\u001b[39mvalues()),\u001b[38;5;241m2\u001b[39m)\n",
      "\u001b[1;31mTypeError\u001b[0m: 'NoneType' object is not iterable"
     ]
    }
   ],
   "source": [
    "print(total_price(customer_orders))"
   ]
  },
  {
   "cell_type": "code",
   "execution_count": null,
   "id": "359262f2-d8bf-4e73-b272-e95ef882d474",
   "metadata": {},
   "outputs": [],
   "source": []
  }
 ],
 "metadata": {
  "kernelspec": {
   "display_name": "Python 3 (ipykernel)",
   "language": "python",
   "name": "python3"
  },
  "language_info": {
   "codemirror_mode": {
    "name": "ipython",
    "version": 3
   },
   "file_extension": ".py",
   "mimetype": "text/x-python",
   "name": "python",
   "nbconvert_exporter": "python",
   "pygments_lexer": "ipython3",
   "version": "3.12.4"
  }
 },
 "nbformat": 4,
 "nbformat_minor": 5
}
